{
 "cells": [
  {
   "cell_type": "code",
   "execution_count": 19,
   "id": "55ee4aff-7e16-4c6c-b1ce-e12c10b0e516",
   "metadata": {},
   "outputs": [
    {
     "name": "stdout",
     "output_type": "stream",
     "text": [
      "Defaulting to user installation because normal site-packages is not writeable\n",
      "Requirement already satisfied: openai in /home/freshman/.local/lib/python3.10/site-packages (1.3.7)\n",
      "Requirement already satisfied: pydantic<3,>=1.9.0 in /home/freshman/.local/lib/python3.10/site-packages (from openai) (2.5.2)\n",
      "Requirement already satisfied: anyio<4,>=3.5.0 in /home/freshman/.local/lib/python3.10/site-packages (from openai) (3.7.1)\n",
      "Requirement already satisfied: distro<2,>=1.7.0 in /usr/lib/python3/dist-packages (from openai) (1.7.0)\n",
      "Requirement already satisfied: typing-extensions<5,>=4.5 in /home/freshman/.local/lib/python3.10/site-packages (from openai) (4.8.0)\n",
      "Requirement already satisfied: sniffio in /home/freshman/.local/lib/python3.10/site-packages (from openai) (1.3.0)\n",
      "Requirement already satisfied: httpx<1,>=0.23.0 in /home/freshman/.local/lib/python3.10/site-packages (from openai) (0.25.2)\n",
      "Requirement already satisfied: tqdm>4 in /home/freshman/.local/lib/python3.10/site-packages (from openai) (4.66.1)\n",
      "Requirement already satisfied: idna>=2.8 in /usr/lib/python3/dist-packages (from anyio<4,>=3.5.0->openai) (3.3)\n",
      "Requirement already satisfied: exceptiongroup in /home/freshman/.local/lib/python3.10/site-packages (from anyio<4,>=3.5.0->openai) (1.2.0)\n",
      "Requirement already satisfied: certifi in /usr/lib/python3/dist-packages (from httpx<1,>=0.23.0->openai) (2020.6.20)\n",
      "Requirement already satisfied: httpcore==1.* in /home/freshman/.local/lib/python3.10/site-packages (from httpx<1,>=0.23.0->openai) (1.0.2)\n",
      "Requirement already satisfied: h11<0.15,>=0.13 in /home/freshman/.local/lib/python3.10/site-packages (from httpcore==1.*->httpx<1,>=0.23.0->openai) (0.14.0)\n",
      "Requirement already satisfied: annotated-types>=0.4.0 in /home/freshman/.local/lib/python3.10/site-packages (from pydantic<3,>=1.9.0->openai) (0.6.0)\n",
      "Requirement already satisfied: pydantic-core==2.14.5 in /home/freshman/.local/lib/python3.10/site-packages (from pydantic<3,>=1.9.0->openai) (2.14.5)\n",
      "Note: you may need to restart the kernel to use updated packages.\n"
     ]
    }
   ],
   "source": [
    "pip install openai"
   ]
  },
  {
   "cell_type": "code",
   "execution_count": 20,
   "id": "878dc71f-c2cd-4944-9399-165d33e1506b",
   "metadata": {},
   "outputs": [
    {
     "name": "stdout",
     "output_type": "stream",
     "text": [
      "Defaulting to user installation because normal site-packages is not writeable\n",
      "Collecting python-dotenv\n",
      "  Downloading python_dotenv-1.0.0-py3-none-any.whl (19 kB)\n",
      "Installing collected packages: python-dotenv\n",
      "Successfully installed python-dotenv-1.0.0\n",
      "Note: you may need to restart the kernel to use updated packages.\n"
     ]
    }
   ],
   "source": [
    "pip install python-dotenv"
   ]
  },
  {
   "cell_type": "code",
   "execution_count": 21,
   "id": "9d9776c6-bb9b-4a51-842c-0c18c04eeea4",
   "metadata": {},
   "outputs": [],
   "source": [
    "import openai\n",
    "from dotenv import dotenv_values"
   ]
  },
  {
   "cell_type": "code",
   "execution_count": 23,
   "id": "a80c8a50-82ac-4f3c-990a-832675f53c46",
   "metadata": {},
   "outputs": [],
   "source": [
    "config = dotenv_values(\"/home/freshman/Mastering-OpenAI-Python-APIs-Unleash-ChatGPT-and-GPT4/.env\")"
   ]
  },
  {
   "cell_type": "code",
   "execution_count": 26,
   "id": "1761ebdb-d074-4374-9d0c-064f9247490f",
   "metadata": {},
   "outputs": [],
   "source": [
    "client = openai.OpenAI(\n",
    "  api_key=config[\"OPENAI_API_KEY\"],\n",
    ")"
   ]
  },
  {
   "cell_type": "code",
   "execution_count": null,
   "id": "69080e37-df51-478f-bb01-3170cbc2053f",
   "metadata": {},
   "outputs": [],
   "source": [
    "completion = client.chat.completions.create(\n",
    "  model=\"gpt-3.5-turbo\",\n",
    "  messages=[\n",
    "    {\"role\": \"system\", \"content\": \"You are a poetic assistant, skilled in explaining complex programming concepts with creative flair.\"},\n",
    "    {\"role\": \"user\", \"content\": \"Compose a poem that explains the concept of recursion in programming.\"}\n",
    "  ]\n",
    ")\n",
    "\n",
    "print(completion.choices[0].message)"
   ]
  },
  {
   "cell_type": "code",
   "execution_count": null,
   "id": "34e5984b-276a-4c80-a16e-a86ec2ee89df",
   "metadata": {},
   "outputs": [],
   "source": []
  }
 ],
 "metadata": {
  "kernelspec": {
   "display_name": "Python 3 (ipykernel)",
   "language": "python",
   "name": "python3"
  },
  "language_info": {
   "codemirror_mode": {
    "name": "ipython",
    "version": 3
   },
   "file_extension": ".py",
   "mimetype": "text/x-python",
   "name": "python",
   "nbconvert_exporter": "python",
   "pygments_lexer": "ipython3",
   "version": "3.10.12"
  }
 },
 "nbformat": 4,
 "nbformat_minor": 5
}
