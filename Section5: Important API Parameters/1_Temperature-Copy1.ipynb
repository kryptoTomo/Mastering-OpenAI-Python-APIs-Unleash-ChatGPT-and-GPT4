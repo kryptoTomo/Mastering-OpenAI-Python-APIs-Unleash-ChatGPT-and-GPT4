{
 "cells": [
  {
   "cell_type": "code",
   "execution_count": 1,
   "id": "6d22fc38-1797-4d6c-a7fa-93536e15c99f",
   "metadata": {},
   "outputs": [],
   "source": [
    "import openai\n",
    "from dotenv import dotenv_values"
   ]
  },
  {
   "cell_type": "code",
   "execution_count": 2,
   "id": "1fb7df7b-cdfc-4793-aad9-072e3dcc7bcb",
   "metadata": {},
   "outputs": [],
   "source": [
    "\n",
    "config = dotenv_values(\"/home/freshman/Trainings/Mastering-OpenAI-Python-APIs-Unleash-ChatGPT-and-GPT4/.env\")\n",
    "\n",
    "client = openai.OpenAI(\n",
    "  api_key=config[\"OPENAI_API_KEY\"],\n",
    ")"
   ]
  },
  {
   "cell_type": "code",
   "execution_count": 7,
   "id": "ff96ba18-a8f9-4995-986f-1e8d62be67c7",
   "metadata": {},
   "outputs": [],
   "source": [
    "completion = client.chat.completions.create(\n",
    "    model=\"gpt-3.5-turbo\",\n",
    "    messages=[\n",
    "    {\"role\": \"system\", \n",
    "    \"content\": \"tell me a story\"}\n",
    "    ],\n",
    "    max_tokens=100,\n",
    "    temperature=0\n",
    ")\n",
    "print(completion.choices[0].message.content)"
   ]
  },
  {
   "cell_type": "code",
   "execution_count": 14,
   "id": "943c368b-97a1-4d5c-ba16-20c392f38136",
   "metadata": {},
   "outputs": [
    {
     "name": "stdout",
     "output_type": "stream",
     "text": [
      "dolphin.\n"
     ]
    }
   ],
   "source": [
    "completion = client.chat.completions.create(\n",
    "    model=\"gpt-3.5-turbo\",\n",
    "    messages=[\n",
    "    {\"role\": \"system\", \n",
    "    \"content\": \"My favorite animal is a \"}\n",
    "    ],\n",
    "    max_tokens=100,\n",
    "    temperature=1.3\n",
    ")\n",
    "print(completion.choices[0].message.content)"
   ]
  },
  {
   "cell_type": "code",
   "execution_count": null,
   "id": "304e9457-0eef-4607-8c2c-ac1968aaeb1c",
   "metadata": {},
   "outputs": [],
   "source": []
  }
 ],
 "metadata": {
  "kernelspec": {
   "display_name": "Python 3 (ipykernel)",
   "language": "python",
   "name": "python3"
  },
  "language_info": {
   "codemirror_mode": {
    "name": "ipython",
    "version": 3
   },
   "file_extension": ".py",
   "mimetype": "text/x-python",
   "name": "python",
   "nbconvert_exporter": "python",
   "pygments_lexer": "ipython3",
   "version": "3.10.12"
  }
 },
 "nbformat": 4,
 "nbformat_minor": 5
}
